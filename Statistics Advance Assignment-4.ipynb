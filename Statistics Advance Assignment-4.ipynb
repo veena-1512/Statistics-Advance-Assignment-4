{
 "cells": [
  {
   "cell_type": "markdown",
   "id": "c7d2ce10-c5a9-4250-8164-61a8fc720ea4",
   "metadata": {},
   "source": [
    "Q1.Both t-tests and z-tests are statistical tests used to make inferences about population parameters based on sample data. However, they are used under different circumstances and assumptions.\n",
    "\n",
    "T-test:\n",
    "A t-test is used when the sample size is small (typically less than 30) and the population standard deviation is unknown. It's often used to compare means of two groups and determine whether the observed difference between them is statistically significant. There are different types of t-tests, such as the independent samples t-test (comparing means of two independent groups) and the paired samples t-test (comparing means of related samples).\n",
    "\n",
    "Z-test:\n",
    "A z-test is used when the sample size is relatively large (typically greater than 30) and the population standard deviation is known or when the sample size is large enough for the sample mean to be approximately normally distributed due to the central limit theorem. It's commonly used when comparing a sample mean to a known population mean."
   ]
  },
  {
   "cell_type": "code",
   "execution_count": 1,
   "id": "6f46a73b-9e9c-4d28-8572-4a93431915b6",
   "metadata": {},
   "outputs": [
    {
     "name": "stdout",
     "output_type": "stream",
     "text": [
      "Fail to reject null hypothesis: No significant difference in means.\n"
     ]
    }
   ],
   "source": [
    "# T-test Example:\n",
    "\n",
    "import numpy as np\n",
    "from scipy.stats import ttest_ind\n",
    "\n",
    "group_a_scores = np.array([85, 92, 88, 78, 95])\n",
    "group_b_scores = np.array([75, 80, 88, 82, 90])\n",
    "\n",
    "t_statistic, p_value = ttest_ind(group_a_scores, group_b_scores)\n",
    "alpha = 0.05\n",
    "\n",
    "if p_value < alpha:\n",
    "    print(\"Reject null hypothesis: There is a significant difference in means.\")\n",
    "else:\n",
    "    print(\"Fail to reject null hypothesis: No significant difference in means.\")"
   ]
  },
  {
   "cell_type": "code",
   "execution_count": 2,
   "id": "290ddcd5-b7ac-4d43-86ea-bf96f5ec899e",
   "metadata": {},
   "outputs": [
    {
     "name": "stdout",
     "output_type": "stream",
     "text": [
      "Reject null hypothesis: Sample mean is significantly different from population mean.\n"
     ]
    }
   ],
   "source": [
    "# Z-test Example:\n",
    "\n",
    "from scipy.stats import norm\n",
    "\n",
    "population_mean = 150\n",
    "population_stddev = 10\n",
    "sample_mean = 155\n",
    "sample_size = 50\n",
    "\n",
    "z_score = (sample_mean - population_mean) / (population_stddev / (sample_size**0.5))\n",
    "alpha = 0.05\n",
    "\n",
    "p_value = 1 - norm.cdf(z_score)\n",
    "\n",
    "if p_value < alpha:\n",
    "    print(\"Reject null hypothesis: Sample mean is significantly different from population mean.\")\n",
    "else:\n",
    "    print(\"Fail to reject null hypothesis: No significant difference from population mean.\")"
   ]
  },
  {
   "cell_type": "markdown",
   "id": "95aedcf3-1b4a-4ce6-8525-6f2b183f948a",
   "metadata": {},
   "source": [
    "Q2.Differentiate between one-tailed and two-tailed tests"
   ]
  },
  {
   "cell_type": "markdown",
   "id": "9d9f14cd-e90a-419e-8366-dad5382be80d",
   "metadata": {},
   "source": [
    "One-Tailed Test:\n",
    "A one-tailed test is used when you're specifically interested in whether the observed effect is in one direction (either significantly larger or significantly smaller) based on your hypothesis. In other words, you're only concerned about deviations from the null hypothesis in one direction. The critical region is located in one tail of the distribution.\n",
    "\n",
    "Two-Tailed Test:\n",
    "A two-tailed test is used when you're interested in deviations from the null hypothesis in both directions. You want to determine whether the observed effect is significantly different from the null hypothesis, regardless of whether it's larger or smaller. The critical region is divided between both tails of the distribution."
   ]
  },
  {
   "cell_type": "markdown",
   "id": "71a87e7b-d263-4316-a667-b25105492763",
   "metadata": {},
   "source": [
    "One-Tailed Test Example:\n",
    "    \n",
    "Let's say we have two groups of students, and want to test whether Group A's mean score is significantly higher than Group B's mean score.our hypotheses would be:\n",
    "\n",
    "Null hypothesis (H0): The mean score of Group A is less than or equal to the mean score of Group B.\n",
    "\n",
    "Alternative hypothesis (H1): The mean score of Group A is greater than the mean score of Group B."
   ]
  },
  {
   "cell_type": "code",
   "execution_count": 3,
   "id": "5cfc46d9-ee46-41b8-a738-66213c1ef7c3",
   "metadata": {},
   "outputs": [
    {
     "name": "stdout",
     "output_type": "stream",
     "text": [
      "Fail to reject null hypothesis.\n"
     ]
    }
   ],
   "source": [
    "from scipy.stats import ttest_ind\n",
    "\n",
    "group_a_scores = np.array([85, 92, 88, 78, 95])\n",
    "group_b_scores = np.array([75, 80, 88, 82, 90])\n",
    "\n",
    "t_statistic, p_value = ttest_ind(group_a_scores, group_b_scores)\n",
    "\n",
    "alpha = 0.05\n",
    "tail = 'right'  # Specify the direction of the test\n",
    "\n",
    "if p_value/2 < alpha and tail == 'right':\n",
    "    print(\"Reject null hypothesis: Group A mean is significantly higher.\")\n",
    "else:\n",
    "    print(\"Fail to reject null hypothesis.\")"
   ]
  },
  {
   "cell_type": "markdown",
   "id": "7862deb0-f2c7-4a07-b8eb-ffff65631e84",
   "metadata": {},
   "source": [
    "Two-Tailed Test Example:\n",
    "Let's consider the same groups of students, but now you want to test whether there's a significant difference in the mean scores between the two groups, regardless of direction.\n",
    "\n",
    "Null hypothesis (H0): The mean score of Group A is equal to the mean score of Group B.\n",
    "\n",
    "Alternative hypothesis (H1): The mean score of Group A is not equal to the mean score of Group B."
   ]
  },
  {
   "cell_type": "code",
   "execution_count": 4,
   "id": "1a226eac-f221-480e-b26c-a190f90ada85",
   "metadata": {},
   "outputs": [
    {
     "name": "stdout",
     "output_type": "stream",
     "text": [
      "Fail to reject null hypothesis: No significant difference in means.\n"
     ]
    }
   ],
   "source": [
    "import numpy as np\n",
    "from scipy.stats import ttest_ind\n",
    "\n",
    "group_a_scores = np.array([85, 92, 88, 78, 95])\n",
    "group_b_scores = np.array([75, 80, 88, 82, 90])\n",
    "\n",
    "t_statistic, p_value = ttest_ind(group_a_scores, group_b_scores)\n",
    "\n",
    "alpha = 0.05\n",
    "\n",
    "if p_value < alpha:\n",
    "    print(\"Reject null hypothesis: There is a significant difference in means.\")\n",
    "else:\n",
    "    print(\"Fail to reject null hypothesis: No significant difference in means.\")"
   ]
  },
  {
   "cell_type": "markdown",
   "id": "30cfc417-22c7-42dd-8d1b-b003c7a86bd4",
   "metadata": {},
   "source": [
    "Q3. Type 1 Error (False Positive):\n",
    "\n",
    "A Type 1 error occurs when we reject the null hypothesis when it is actually true. In other words,we conclude that there is a significant effect or difference when, in reality, there is none. The probability of committing a Type 1 error is denoted as alpha (α), which is the significance level we choose.\n",
    "\n",
    "Type 2 Error (False Negative):\n",
    "A Type 2 error occurs when we fail to reject the null hypothesis when it is actually false. This means we fail to detect a significant effect or difference that does exist. The probability of committing a Type 2 error is denoted as beta (β), and the complementary value (1 - β) is called the power of the test, which represents the ability of the test to correctly reject the null hypothesis when it is false.\n",
    "\n"
   ]
  },
  {
   "cell_type": "code",
   "execution_count": 5,
   "id": "ca5b7116-2e4c-447f-a0ac-8dd516cf1471",
   "metadata": {},
   "outputs": [
    {
     "name": "stdout",
     "output_type": "stream",
     "text": [
      "Reject null hypothesis: The test incorrectly indicates disease presence.\n"
     ]
    }
   ],
   "source": [
    "# Type 1 Error Example:\n",
    "\n",
    "import numpy as np\n",
    "from scipy.stats import norm\n",
    "\n",
    "population_mean = 100  \n",
    "population_stddev = 10\n",
    "sample_mean = 105  \n",
    "sample_size = 50\n",
    "\n",
    "# Assuming a two-tailed test\n",
    "z_score = (sample_mean - population_mean) / (population_stddev / (sample_size**0.5))\n",
    "alpha = 0.05\n",
    "\n",
    "p_value = 2 * (1 - norm.cdf(abs(z_score)))\n",
    "\n",
    "if p_value < alpha:\n",
    "    print(\"Reject null hypothesis: The test incorrectly indicates disease presence.\")\n",
    "else:\n",
    "    print(\"Fail to reject null hypothesis: The test correctly indicates absence of disease.\")\n",
    "\n"
   ]
  },
  {
   "cell_type": "code",
   "execution_count": 6,
   "id": "6011159f-bfd7-475d-bfcc-c00aba1c1a7e",
   "metadata": {},
   "outputs": [
    {
     "name": "stdout",
     "output_type": "stream",
     "text": [
      "Probability of Type 2 error: 0.0002034760087224789\n",
      "Power of the test: 0.9997965239912775\n"
     ]
    }
   ],
   "source": [
    "# Type 2 Error Example:\n",
    "\n",
    "population_mean_disease = 120\n",
    "sample_mean_test = 115\n",
    "\n",
    "z_score = (sample_mean_test - population_mean_disease) / (population_stddev / (sample_size**0.5))\n",
    "beta = norm.cdf(z_score)\n",
    "\n",
    "power = 1 - beta\n",
    "\n",
    "print(\"Probability of Type 2 error:\", beta)\n",
    "print(\"Power of the test:\", power)"
   ]
  },
  {
   "cell_type": "code",
   "execution_count": null,
   "id": "5c1b1a5d-e6e4-41c1-a191-d1db89103fc5",
   "metadata": {},
   "outputs": [],
   "source": [
    "Q4. Explain Bayes's theorem with an example."
   ]
  },
  {
   "cell_type": "markdown",
   "id": "4640970a-ac4e-4abc-b789-6e075ab001a2",
   "metadata": {},
   "source": [
    "\n",
    "Bayes theorem gives the probability of an “event” with the given information on “tests”. There is a difference between “events” and “tests”. For example there is a test for liver disease, which is different from actually having the liver disease, i.e. an event. Rare events might be having a higher false positive rate.\n",
    "\n",
    "\n",
    "Examples of Bayes’ Theorem\n",
    "Bayesian inference is very important and has found application in various activities, including medicine, science, philosophy, engineering, sports, law, etc. and Bayesian inference is directly derived from Bayes’ theorem. Example: Bayes’ theorem defines the accuracy of the medical test by taking into account how likely a person is to have a disease and what is the overall accuracy of the test."
   ]
  },
  {
   "cell_type": "markdown",
   "id": "b8ae4dd2-e873-4465-a314-693faee1e0fd",
   "metadata": {},
   "source": [
    "Q5. A confidence interval is a range of values that is used to estimate the unknown true value of a population parameter, such as the mean or the proportion, based on a sample from that population. It provides a measure of the uncertainty associated with the sample estimate. The confidence interval indicates the range within which we can reasonably expect the true population parameter to fall, with a specified level of confidence.\n",
    "\n",
    "For example, if you calculate a 95% confidence interval for the mean, it means that if you were to repeat the sampling process and construct confidence intervals from different samples, about 95% of those intervals would contain the true population mean.\n",
    "\n",
    "Calculating a Confidence Interval:"
   ]
  },
  {
   "cell_type": "code",
   "execution_count": 7,
   "id": "14c8e2ea-ddb4-449c-b526-08dd039f7838",
   "metadata": {},
   "outputs": [],
   "source": [
    "import numpy as np\n",
    "from scipy.stats import t\n",
    "\n",
    "scores = np.array([85, 90, 78, 92, 88, 75, 80, 85, 89, 95])\n"
   ]
  },
  {
   "cell_type": "code",
   "execution_count": 9,
   "id": "952a1a0d-ac1c-4c63-bf28-af37f27ae774",
   "metadata": {},
   "outputs": [
    {
     "name": "stdout",
     "output_type": "stream",
     "text": [
      "[85 90 78 92 88 75 80 85 89 95]\n"
     ]
    }
   ],
   "source": [
    "print(scores)"
   ]
  },
  {
   "cell_type": "code",
   "execution_count": 11,
   "id": "8224e1c3-28b4-4481-b22b-c41189b2cae9",
   "metadata": {},
   "outputs": [
    {
     "name": "stdout",
     "output_type": "stream",
     "text": [
      "Sample Mean: 85.7\n",
      "Confidence Interval: (81.12507026629194, 90.27492973370806)\n"
     ]
    }
   ],
   "source": [
    "sample_mean = np.mean(scores)\n",
    "sample_stddev = np.std(scores, ddof=1)  \n",
    "sample_size = len(scores)\n",
    "confidence_level = 0.95\n",
    "t_score = t.ppf((1 + confidence_level) / 2, df=sample_size - 1)\n",
    "\n",
    "# Calculate the margin of error\n",
    "margin_of_error = t_score * (sample_stddev / np.sqrt(sample_size))\n",
    "\n",
    "# Calculate the confidence interval\n",
    "confidence_interval = (sample_mean - margin_of_error, sample_mean + margin_of_error)\n",
    "\n",
    "print(\"Sample Mean:\", sample_mean)\n",
    "print(\"Confidence Interval:\", confidence_interval)\n"
   ]
  },
  {
   "cell_type": "markdown",
   "id": "985b7db8-10cc-4439-8ba0-2338d16af01f",
   "metadata": {},
   "source": [
    "Q6. Bayes' Theorem is a fundamental concept in probability theory that helps us update our beliefs about the probability of an event occurring based on new evidence."
   ]
  },
  {
   "cell_type": "code",
   "execution_count": 1,
   "id": "d9ed1877-8a32-4307-ab19-e2a731f17b2d",
   "metadata": {},
   "outputs": [
    {
     "name": "stdout",
     "output_type": "stream",
     "text": [
      "The probability of actually having the disease given a positive test result is: 0.2423\n"
     ]
    }
   ],
   "source": [
    "def bayes_theorem(prior_A, p_B_given_A, p_B_given_not_A):\n",
    "    p_not_A = 1 - prior_A\n",
    "    p_A_given_B = (p_B_given_A * prior_A) / ((p_B_given_A * prior_A) + (p_B_given_not_A * p_not_A))\n",
    "    return p_A_given_B\n",
    "\n",
    "# Given data\n",
    "prior_A = 0.01  # Prior probability of having the disease\n",
    "p_B_given_A = 0.95  # Sensitivity of the diagnostic tool\n",
    "p_B_given_not_A = 0.03  # False positive rate of the diagnostic tool\n",
    "\n",
    "# Calculate probability using Bayes' Theorem\n",
    "probability_with_disease = bayes_theorem(prior_A, p_B_given_A, p_B_given_not_A)\n",
    "print(f\"The probability of actually having the disease given a positive test result is: {probability_with_disease:.4f}\")"
   ]
  },
  {
   "cell_type": "markdown",
   "id": "b580a371-479d-4fa8-b777-0f1710bea31b",
   "metadata": {},
   "source": []
  },
  {
   "cell_type": "markdown",
   "id": "ccd555be-74b1-4f6f-9027-9dbe41d886b9",
   "metadata": {},
   "source": [
    "Q7. To calculate the 95% confidence interval for a sample of data with a mean of 50 and a standard deviation of 5, you'll need to use the formula for confidence intervals along with the appropriate z-score from the standard normal distribution.\n",
    "\n",
    "The formula to calculate a confidence interval for the mean is:\n",
    "\n",
    "Confidence Interval = Sample Mean ± Margin of Error\n",
    "Confidence Interval=Sample Mean±Margin of Error"
   ]
  },
  {
   "cell_type": "code",
   "execution_count": null,
   "id": "d55e1026-f483-4b6b-b4c0-7f24c2370afe",
   "metadata": {},
   "outputs": [],
   "source": [
    "import numpy as np\n",
    "from scipy.stats import norm\n",
    "\n",
    "sample_mean = 50\n",
    "sample_stddev = 5\n",
    "sample_size = 100  \n",
    "confidence_level = 0.95\n",
    "\n",
    "standard_error = sample_stddev / np.sqrt(sample_size)\n",
    "\n",
    "z_score = norm.ppf((1 + confidence_level) / 2)\n",
    "\n",
    "margin_of_error = z_score * standard_error\n",
    "\n",
    "\n",
    "confidence_interval = (sample_mean - margin_of_error, sample_mean + margin_of_error)\n",
    "\n",
    "print(\"Sample Mean:\", sample_mean)\n",
    "print(\"Confidence Interval:\", confidence_interval)\n"
   ]
  },
  {
   "cell_type": "markdown",
   "id": "71e66643-731b-4d43-97f7-81a2ddf2677d",
   "metadata": {},
   "source": [
    "Q8. The margin of error (MoE) in a confidence interval (CI) is a measure of the uncertainty or range around a sample statistic (such as the sample mean or proportion) that we estimate from a sample. It reflects the potential variability between the sample statistic and the true population parameter. The margin of error is typically expressed as a plus/minus value and is used to quantify the level of confidence we have in our estimate.\n",
    "\n",
    "A larger margin of error indicates a wider interval around the estimate, which means that our estimate is less precise. Conversely, a smaller margin of error indicates a narrower interval, implying a more precise estimate.\n",
    "\n",
    "The sample size directly affects the margin of error. Generally, as the sample size increases, the margin of error decreases. This is because larger sample sizes tend to provide more information about the population, leading to more accurate estimates."
   ]
  },
  {
   "cell_type": "code",
   "execution_count": 4,
   "id": "e48ad3d8-9bf1-4616-a230-123674e88181",
   "metadata": {},
   "outputs": [
    {
     "name": "stdout",
     "output_type": "stream",
     "text": [
      "Required sample size for a margin of error of 2: 217.0\n"
     ]
    }
   ],
   "source": [
    "import numpy as np\n",
    "from scipy.stats import norm\n",
    "\n",
    "true_mean = 100\n",
    "population_stddev = 15\n",
    "confidence_level = 0.95\n",
    "desired_margin_of_error = 2\n",
    "\n",
    "z_score = norm.ppf(1 - (1 - confidence_level) / 2)\n",
    "required_sample_size = np.ceil((z_score * population_stddev / desired_margin_of_error) ** 2)\n",
    "\n",
    "print(f\"Required sample size for a margin of error of {desired_margin_of_error}: {required_sample_size}\")\n"
   ]
  },
  {
   "cell_type": "code",
   "execution_count": 5,
   "id": "cd62e6f3-2943-49d2-ae01-d32147452bdd",
   "metadata": {},
   "outputs": [
    {
     "name": "stdout",
     "output_type": "stream",
     "text": [
      "Sample mean: 98.98\n",
      "Confidence Interval: (96.99, 100.98)\n",
      "Actual margin of error: 2.00\n"
     ]
    }
   ],
   "source": [
    "sample_size = int(required_sample_size)\n",
    "sample_data = np.random.normal(true_mean, population_stddev, sample_size)\n",
    "\n",
    "# Calculate the sample mean and standard error\n",
    "sample_mean = np.mean(sample_data)\n",
    "standard_error = population_stddev / np.sqrt(sample_size)\n",
    "\n",
    "# Calculate the confidence interval\n",
    "margin_of_error = z_score * standard_error\n",
    "confidence_interval = (sample_mean - margin_of_error, sample_mean + margin_of_error)\n",
    "\n",
    "print(f\"Sample mean: {sample_mean:.2f}\")\n",
    "print(f\"Confidence Interval: ({confidence_interval[0]:.2f}, {confidence_interval[1]:.2f})\")\n",
    "print(f\"Actual margin of error: {margin_of_error:.2f}\")"
   ]
  },
  {
   "cell_type": "markdown",
   "id": "f522bedb-e172-4bd8-93eb-99e817e2e1b1",
   "metadata": {},
   "source": [
    "Q9. The z-score measures how many standard deviations a data point is away from the mean of a distribution."
   ]
  },
  {
   "cell_type": "code",
   "execution_count": 7,
   "id": "e4083ff2-f2df-47e4-a04c-ddc5a15aefb6",
   "metadata": {},
   "outputs": [
    {
     "name": "stdout",
     "output_type": "stream",
     "text": [
      "The z-score for the data point 75 is: 1.00\n"
     ]
    }
   ],
   "source": [
    "data_point = 75\n",
    "population_mean = 70\n",
    "population_stddev = 5\n",
    "\n",
    "z_score = (data_point - population_mean) / population_stddev\n",
    "\n",
    "print(f\"The z-score for the data point {data_point} is: {z_score:.2f}\")"
   ]
  },
  {
   "cell_type": "markdown",
   "id": "bcff3be6-2b78-494d-ab12-23eddff69c67",
   "metadata": {},
   "source": [
    "Q10. To conduct a hypothesis test to determine if the weight loss drug is significantly effective, we need to set up the null and alternative hypotheses and perform a t-test on the sample data. The t-test will help us assess whether the observed sample mean is significantly different from a hypothesized population mean."
   ]
  },
  {
   "cell_type": "code",
   "execution_count": 10,
   "id": "b58af436-b9c9-4d67-b2ea-6bbc50298105",
   "metadata": {},
   "outputs": [
    {
     "name": "stdout",
     "output_type": "stream",
     "text": [
      "Reject the null hypothesis. The drug is significantly effective.\n",
      "t-statistic: 16.9706\n",
      "Degrees of freedom: 49\n",
      "Critical t-value: 2.0096\n",
      "P-value: 0.0000\n"
     ]
    }
   ],
   "source": [
    "import numpy as np\n",
    "from scipy.stats import t\n",
    "\n",
    "# Given data\n",
    "sample_mean = 6 \n",
    "sample_stddev = 2.5  \n",
    "sample_size = 50  \n",
    "hypothesized_mean = 0 \n",
    "\n",
    "t_statistic = (sample_mean - hypothesized_mean) / (sample_stddev / np.sqrt(sample_size))\n",
    "\n",
    "degrees_of_freedom = sample_size - 1\n",
    "\n",
    "alpha = 0.05\n",
    "t_critical = t.ppf(1 - alpha / 2, degrees_of_freedom)\n",
    "p_value = 2 * (1 - t.cdf(np.abs(t_statistic), degrees_of_freedom))\n",
    "\n",
    "\n",
    "if p_value < alpha:\n",
    "    print(\"Reject the null hypothesis. The drug is significantly effective.\")\n",
    "else:\n",
    "    print(\"Fail to reject the null hypothesis. There is no significant evidence of drug effectiveness.\")\n",
    "\n",
    "print(f\"t-statistic: {t_statistic:.4f}\")\n",
    "print(f\"Degrees of freedom: {degrees_of_freedom}\")\n",
    "print(f\"Critical t-value: {t_critical:.4f}\")\n",
    "print(f\"P-value: {p_value:.4f}\")"
   ]
  },
  {
   "cell_type": "markdown",
   "id": "21d654d2-7d69-462f-8354-0f516a6d584d",
   "metadata": {},
   "source": [
    "Q11. In a survey of 500 people, 65% reported being satisfied with their current job. Calculate the 95% \n",
    "confidence interval for the true proportion of people who are satisfied with their job."
   ]
  },
  {
   "cell_type": "code",
   "execution_count": 12,
   "id": "ea4381dc-bab0-44b0-aec3-04205efde952",
   "metadata": {},
   "outputs": [
    {
     "name": "stdout",
     "output_type": "stream",
     "text": [
      "95% Confidence Interval: (0.6082, 0.6918)\n"
     ]
    }
   ],
   "source": [
    "import math\n",
    "\n",
    "# Given data\n",
    "sample_proportion = 0.65  \n",
    "sample_size = 500\n",
    "confidence_level = 0.95\n",
    "\n",
    "\n",
    "z_critical = 1.96  \n",
    "\n",
    "margin_of_error = z_critical * math.sqrt((sample_proportion * (1 - sample_proportion)) / sample_size)\n",
    "\n",
    "lower_bound = sample_proportion - margin_of_error\n",
    "upper_bound = sample_proportion + margin_of_error\n",
    "\n",
    "print(f\"95% Confidence Interval: ({lower_bound:.4f}, {upper_bound:.4f})\")\n"
   ]
  },
  {
   "cell_type": "markdown",
   "id": "b1924eb3-f282-4417-abf6-7e1015050a1f",
   "metadata": {},
   "source": [
    "Q13. To calculate the 90% confidence interval for the true population mean based on a sample, we can use the t-distribution since the population standard deviation is not known. "
   ]
  },
  {
   "cell_type": "code",
   "execution_count": 14,
   "id": "4080c4cb-688e-4e69-bcea-a86c05607dc1",
   "metadata": {},
   "outputs": [
    {
     "name": "stdout",
     "output_type": "stream",
     "text": [
      "90% Confidence Interval: (63.1032, 66.8968)\n"
     ]
    }
   ],
   "source": [
    "import numpy as np\n",
    "from scipy.stats import t\n",
    "\n",
    "# Given data\n",
    "sample_mean = 65\n",
    "sample_stddev = 8\n",
    "sample_size = 50\n",
    "confidence_level = 0.90\n",
    "\n",
    "\n",
    "degrees_of_freedom = sample_size - 1\n",
    "\n",
    "t_critical = t.ppf(1 - (1 - confidence_level) / 2, degrees_of_freedom)\n",
    "\n",
    "margin_of_error = t_critical * (sample_stddev / np.sqrt(sample_size))\n",
    "\n",
    "lower_bound = sample_mean - margin_of_error\n",
    "upper_bound = sample_mean + margin_of_error\n",
    "\n",
    "print(f\"90% Confidence Interval: ({lower_bound:.4f}, {upper_bound:.4f})\")\n",
    "\n"
   ]
  },
  {
   "cell_type": "code",
   "execution_count": null,
   "id": "b8b5e61c-c226-4ac9-b6ce-313721cd1aab",
   "metadata": {},
   "outputs": [],
   "source": [
    "Q14. To conduct a hypothesis test using a t-test of the effects of caffeine on reaction time:- "
   ]
  },
  {
   "cell_type": "code",
   "execution_count": 15,
   "id": "bc1ed859-8ec6-4d03-9aa8-1637807e2b92",
   "metadata": {},
   "outputs": [
    {
     "name": "stdout",
     "output_type": "stream",
     "text": [
      "Reject the null hypothesis. Caffeine has a significant effect on reaction time.\n",
      "t-statistic: -3.2863\n",
      "P-value: 0.0027\n"
     ]
    }
   ],
   "source": [
    "import numpy as np\n",
    "from scipy.stats import t\n",
    "\n",
    "# Given data\n",
    "sample_mean = 0.25  \n",
    "sample_stddev = 0.05  \n",
    "sample_size = 30  \n",
    "hypothesized_mean = 0.28 \n",
    "confidence_level = 0.90  \n",
    "\n",
    "t_statistic = (sample_mean - hypothesized_mean) / (sample_stddev / np.sqrt(sample_size))\n",
    "\n",
    "\n",
    "degrees_of_freedom = sample_size - 1\n",
    "\n",
    "p_value = 2 * (1 - t.cdf(np.abs(t_statistic), degrees_of_freedom))\n",
    "\n",
    "# Determine if the results are statistically significant\n",
    "alpha = 1 - confidence_level\n",
    "if p_value < alpha:\n",
    "    result = \"Reject the null hypothesis. Caffeine has a significant effect on reaction time.\"\n",
    "else:\n",
    "    result = \"Fail to reject the null hypothesis. There is no significant evidence of caffeine effect on reaction time.\"\n",
    "\n",
    "print(result)\n",
    "print(f\"t-statistic: {t_statistic:.4f}\")\n",
    "print(f\"P-value: {p_value:.4f}\")"
   ]
  },
  {
   "cell_type": "code",
   "execution_count": null,
   "id": "d487f6b9-0293-4860-ab41-ce5209bda51b",
   "metadata": {},
   "outputs": [],
   "source": []
  }
 ],
 "metadata": {
  "kernelspec": {
   "display_name": "Python 3 (ipykernel)",
   "language": "python",
   "name": "python3"
  },
  "language_info": {
   "codemirror_mode": {
    "name": "ipython",
    "version": 3
   },
   "file_extension": ".py",
   "mimetype": "text/x-python",
   "name": "python",
   "nbconvert_exporter": "python",
   "pygments_lexer": "ipython3",
   "version": "3.10.8"
  }
 },
 "nbformat": 4,
 "nbformat_minor": 5
}
